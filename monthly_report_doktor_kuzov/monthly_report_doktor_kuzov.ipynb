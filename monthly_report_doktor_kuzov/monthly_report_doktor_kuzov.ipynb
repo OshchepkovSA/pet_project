{
 "cells": [
  {
   "cell_type": "markdown",
   "metadata": {},
   "source": [
    "# Месячный отчет\n",
    "\n",
    "Постановка задачи: Из таблица представленной в Google sheets сформировать отчет по заданной форме в совместную беседу во ВКонтакте.\n",
    "\n"
   ]
  },
  {
   "cell_type": "markdown",
   "metadata": {
    "id": "p6AxtiRr31PA"
   },
   "source": [
    "## Загрузка данных\n",
    "Загружаем dataframe из Google sheets\n",
    "\n",
    "В таблице Google нажмите файл> опубликовать в Интернете. Затем выберите то, что вам нужно опубликовать, и выберите формат экспорта .csv. У вас будет ссылка, скопитруйте ее и вставьте в pathtocsv\n",
    "\n",
    "https://question-it.com/questions/2560054/zagruzka-obschej-tablitsy-google-v-pandas\n"
   ]
  },
  {
   "cell_type": "code",
   "execution_count": 146,
   "metadata": {
    "ExecuteTime": {
     "end_time": "2021-11-28T13:24:29.819748Z",
     "start_time": "2021-11-28T13:24:26.929505Z"
    },
    "colab": {
     "base_uri": "https://localhost:8080/",
     "height": 206
    },
    "id": "tzfXit7_9bxu",
    "outputId": "fed8509d-dfb8-4f14-99a2-764ceabd0ec2"
   },
   "outputs": [
    {
     "data": {
      "text/html": [
       "<div>\n",
       "<style scoped>\n",
       "    .dataframe tbody tr th:only-of-type {\n",
       "        vertical-align: middle;\n",
       "    }\n",
       "\n",
       "    .dataframe tbody tr th {\n",
       "        vertical-align: top;\n",
       "    }\n",
       "\n",
       "    .dataframe thead th {\n",
       "        text-align: right;\n",
       "    }\n",
       "</style>\n",
       "<table border=\"1\" class=\"dataframe\">\n",
       "  <thead>\n",
       "    <tr style=\"text-align: right;\">\n",
       "      <th></th>\n",
       "      <th>Адрес</th>\n",
       "      <th>Дата</th>\n",
       "      <th>Сумма</th>\n",
       "      <th>Направление</th>\n",
       "      <th>Категория</th>\n",
       "      <th>Контрагент</th>\n",
       "      <th>Подтверждено</th>\n",
       "      <th>Заметки</th>\n",
       "      <th>Долг</th>\n",
       "    </tr>\n",
       "  </thead>\n",
       "  <tbody>\n",
       "    <tr>\n",
       "      <th>0</th>\n",
       "      <td>ДК1</td>\n",
       "      <td>NaN</td>\n",
       "      <td>-21 000,00 р.</td>\n",
       "      <td>расход</td>\n",
       "      <td>аренда</td>\n",
       "      <td>Киршин</td>\n",
       "      <td>да</td>\n",
       "      <td>Аренда</td>\n",
       "      <td>NaN</td>\n",
       "    </tr>\n",
       "    <tr>\n",
       "      <th>1</th>\n",
       "      <td>ДК1</td>\n",
       "      <td>NaN</td>\n",
       "      <td>-5 500,00 р.</td>\n",
       "      <td>расход</td>\n",
       "      <td>аренда</td>\n",
       "      <td>Киршин</td>\n",
       "      <td>да</td>\n",
       "      <td>Комуналка+ТБО</td>\n",
       "      <td>NaN</td>\n",
       "    </tr>\n",
       "    <tr>\n",
       "      <th>2</th>\n",
       "      <td>NaN</td>\n",
       "      <td>NaN</td>\n",
       "      <td>-6 000,00 р.</td>\n",
       "      <td>расход</td>\n",
       "      <td>зп</td>\n",
       "      <td>Костя</td>\n",
       "      <td>да</td>\n",
       "      <td>топка печи (окт-апр) за сент и окт</td>\n",
       "      <td>NaN</td>\n",
       "    </tr>\n",
       "    <tr>\n",
       "      <th>3</th>\n",
       "      <td>NaN</td>\n",
       "      <td>NaN</td>\n",
       "      <td>-2 000,00 р.</td>\n",
       "      <td>расход</td>\n",
       "      <td>ГСМ</td>\n",
       "      <td>Костя</td>\n",
       "      <td>да</td>\n",
       "      <td>бензин на месяц</td>\n",
       "      <td>NaN</td>\n",
       "    </tr>\n",
       "    <tr>\n",
       "      <th>4</th>\n",
       "      <td>NaN</td>\n",
       "      <td>NaN</td>\n",
       "      <td>-500,00 р.</td>\n",
       "      <td>расход</td>\n",
       "      <td>Связь</td>\n",
       "      <td>Костя</td>\n",
       "      <td>да</td>\n",
       "      <td>телефон на месяц</td>\n",
       "      <td>NaN</td>\n",
       "    </tr>\n",
       "  </tbody>\n",
       "</table>\n",
       "</div>"
      ],
      "text/plain": [
       "  Адрес Дата          Сумма Направление Категория Контрагент Подтверждено  \\\n",
       "0   ДК1  NaN  -21 000,00 р.      расход    аренда     Киршин           да   \n",
       "1   ДК1  NaN   -5 500,00 р.      расход    аренда     Киршин           да   \n",
       "2   NaN  NaN   -6 000,00 р.      расход        зп      Костя           да   \n",
       "3   NaN  NaN   -2 000,00 р.      расход       ГСМ      Костя           да   \n",
       "4   NaN  NaN     -500,00 р.      расход     Связь      Костя           да   \n",
       "\n",
       "                              Заметки Долг  \n",
       "0                              Аренда  NaN  \n",
       "1                       Комуналка+ТБО  NaN  \n",
       "2  топка печи (окт-апр) за сент и окт  NaN  \n",
       "3                     бензин на месяц  NaN  \n",
       "4                    телефон на месяц  NaN  "
      ]
     },
     "execution_count": 146,
     "metadata": {},
     "output_type": "execute_result"
    }
   ],
   "source": [
    "import pandas as pd\n",
    "\n",
    "pathtocsv = r'https://docs.google.com/spreadsheets/d/e/2PACX-1vQJXb0sEZuwsdRUZ-rGWRMJaEwHgbJ5wZJKeVje9U52GQDp1hNd3OVsNybCuJh7xw-oc2FLF9AJBTeN/pub?gid=37&single=true&output=csv'\n",
    "df = pd.read_csv(pathtocsv)\n",
    "df.head()"
   ]
  },
  {
   "cell_type": "markdown",
   "metadata": {
    "id": "qbVbq6db3Xp9"
   },
   "source": [
    "## Формирование отчета\n",
    "Вычисляем нужные показатели для отчета из Pandas датафрейма и приводим в требуемый вид"
   ]
  },
  {
   "cell_type": "markdown",
   "metadata": {},
   "source": [
    "### Вычисление основных показателей"
   ]
  },
  {
   "cell_type": "code",
   "execution_count": 147,
   "metadata": {
    "ExecuteTime": {
     "end_time": "2021-11-28T13:24:29.865133Z",
     "start_time": "2021-11-28T13:24:29.823590Z"
    },
    "colab": {
     "base_uri": "https://localhost:8080/"
    },
    "id": "iQrNxa_tqlxa",
    "outputId": "aa267396-0f2f-4b72-bd6a-4efdf183fc51"
   },
   "outputs": [
    {
     "data": {
      "text/plain": [
       "-32650.0"
      ]
     },
     "execution_count": 147,
     "metadata": {},
     "output_type": "execute_result"
    }
   ],
   "source": [
    "df['Сумма'] = df['Сумма'].apply(lambda x: str(x).replace(' ', ''))\n",
    "df['Сумма'] = df['Сумма'].apply(lambda x: str(x).replace('р.', ''))\n",
    "df['Сумма'] = df['Сумма'].apply(lambda x: str(x).replace(u'\\xa0', ''))\n",
    "df['Сумма'] = df['Сумма'].apply(lambda x: str(x).replace(',', '.'))\n",
    "df['Сумма'] = df['Сумма'].astype(float)\n",
    "profit_tmp = df['Сумма'].sum()\n",
    "profit_tmp"
   ]
  },
  {
   "cell_type": "code",
   "execution_count": 148,
   "metadata": {
    "ExecuteTime": {
     "end_time": "2021-11-28T13:24:30.121292Z",
     "start_time": "2021-11-28T13:24:29.868757Z"
    },
    "colab": {
     "base_uri": "https://localhost:8080/",
     "height": 206
    },
    "id": "aC3RrH7epsGx",
    "outputId": "8bd557e0-7c07-4b08-9f4d-584b5b0e6408"
   },
   "outputs": [
    {
     "data": {
      "text/html": [
       "<div>\n",
       "<style scoped>\n",
       "    .dataframe tbody tr th:only-of-type {\n",
       "        vertical-align: middle;\n",
       "    }\n",
       "\n",
       "    .dataframe tbody tr th {\n",
       "        vertical-align: top;\n",
       "    }\n",
       "\n",
       "    .dataframe thead th {\n",
       "        text-align: right;\n",
       "    }\n",
       "</style>\n",
       "<table border=\"1\" class=\"dataframe\">\n",
       "  <thead>\n",
       "    <tr style=\"text-align: right;\">\n",
       "      <th></th>\n",
       "      <th>Адрес</th>\n",
       "      <th>Дата</th>\n",
       "      <th>Сумма</th>\n",
       "      <th>Направление</th>\n",
       "      <th>Категория</th>\n",
       "      <th>Контрагент</th>\n",
       "      <th>Подтверждено</th>\n",
       "      <th>Заметки</th>\n",
       "      <th>Долг</th>\n",
       "    </tr>\n",
       "  </thead>\n",
       "  <tbody>\n",
       "    <tr>\n",
       "      <th>12</th>\n",
       "      <td>NaN</td>\n",
       "      <td>09.10.2021</td>\n",
       "      <td>-400.0</td>\n",
       "      <td>расход</td>\n",
       "      <td>улучшения</td>\n",
       "      <td>озон</td>\n",
       "      <td>да</td>\n",
       "      <td>держатель отверок в дк2</td>\n",
       "      <td>сергей</td>\n",
       "    </tr>\n",
       "    <tr>\n",
       "      <th>22</th>\n",
       "      <td>NaN</td>\n",
       "      <td>17.10.2021</td>\n",
       "      <td>-2100.0</td>\n",
       "      <td>расход</td>\n",
       "      <td>улучшения</td>\n",
       "      <td>КрепежСервис</td>\n",
       "      <td>да</td>\n",
       "      <td>и ижинструмент</td>\n",
       "      <td>сергей</td>\n",
       "    </tr>\n",
       "    <tr>\n",
       "      <th>28</th>\n",
       "      <td>NaN</td>\n",
       "      <td>23.10.2021</td>\n",
       "      <td>-550.0</td>\n",
       "      <td>расход</td>\n",
       "      <td>амортизация</td>\n",
       "      <td>Строительный выгон</td>\n",
       "      <td>да</td>\n",
       "      <td>пена+пистолет</td>\n",
       "      <td>сергей</td>\n",
       "    </tr>\n",
       "    <tr>\n",
       "      <th>35</th>\n",
       "      <td>NaN</td>\n",
       "      <td>21.11.21</td>\n",
       "      <td>-1050.0</td>\n",
       "      <td>расход</td>\n",
       "      <td>амортизация</td>\n",
       "      <td>резинотехника</td>\n",
       "      <td>да</td>\n",
       "      <td>шланг 15м</td>\n",
       "      <td>сергей</td>\n",
       "    </tr>\n",
       "    <tr>\n",
       "      <th>36</th>\n",
       "      <td>NaN</td>\n",
       "      <td>21.11.21</td>\n",
       "      <td>-50.0</td>\n",
       "      <td>расход</td>\n",
       "      <td>амортизация</td>\n",
       "      <td>КрепежСервис</td>\n",
       "      <td>да</td>\n",
       "      <td>хомуты</td>\n",
       "      <td>сергей</td>\n",
       "    </tr>\n",
       "  </tbody>\n",
       "</table>\n",
       "</div>"
      ],
      "text/plain": [
       "   Адрес        Дата   Сумма Направление    Категория          Контрагент  \\\n",
       "12   NaN  09.10.2021  -400.0      расход    улучшения                озон   \n",
       "22   NaN  17.10.2021 -2100.0      расход    улучшения        КрепежСервис   \n",
       "28   NaN  23.10.2021  -550.0      расход  амортизация  Строительный выгон   \n",
       "35   NaN    21.11.21 -1050.0      расход  амортизация       резинотехника   \n",
       "36   NaN    21.11.21   -50.0      расход  амортизация        КрепежСервис   \n",
       "\n",
       "   Подтверждено                  Заметки    Долг  \n",
       "12           да  держатель отверок в дк2  сергей  \n",
       "22           да           и ижинструмент  сергей  \n",
       "28           да            пена+пистолет  сергей  \n",
       "35           да                шланг 15м  сергей  \n",
       "36           да                   хомуты  сергей  "
      ]
     },
     "execution_count": 148,
     "metadata": {},
     "output_type": "execute_result"
    }
   ],
   "source": [
    "df_debts = df.loc[df['Долг'] == 'сергей']\n",
    "df_debts"
   ]
  },
  {
   "cell_type": "code",
   "execution_count": 149,
   "metadata": {
    "ExecuteTime": {
     "end_time": "2021-11-28T13:24:30.316323Z",
     "start_time": "2021-11-28T13:24:30.125477Z"
    },
    "colab": {
     "base_uri": "https://localhost:8080/"
    },
    "id": "cigRVoO-xZM7",
    "outputId": "184d2c33-2f3c-4f20-eb37-16491df706dc"
   },
   "outputs": [
    {
     "data": {
      "text/plain": [
       "-1650.0"
      ]
     },
     "execution_count": 149,
     "metadata": {},
     "output_type": "execute_result"
    }
   ],
   "source": [
    "# Долги ДК -> ОСА\n",
    "debt_dk_to_osa = df_debts[df_debts['Категория'] == 'амортизация']['Сумма'].sum()\n",
    "debt_dk_to_osa"
   ]
  },
  {
   "cell_type": "code",
   "execution_count": 150,
   "metadata": {
    "ExecuteTime": {
     "end_time": "2021-11-28T13:24:30.450220Z",
     "start_time": "2021-11-28T13:24:30.321441Z"
    },
    "colab": {
     "base_uri": "https://localhost:8080/"
    },
    "id": "MPOt2LNByt3R",
    "outputId": "8cc9b27e-5130-4c78-bac3-2399f20aabaa"
   },
   "outputs": [
    {
     "data": {
      "text/plain": [
       "-2500.0"
      ]
     },
     "execution_count": 150,
     "metadata": {},
     "output_type": "execute_result"
    }
   ],
   "source": [
    "# Все улучшения за месяц\n",
    "upgrade_all = df[df['Категория'] == 'улучшения']['Сумма'].sum()\n",
    "upgrade_all"
   ]
  },
  {
   "cell_type": "code",
   "execution_count": 151,
   "metadata": {
    "ExecuteTime": {
     "end_time": "2021-11-28T13:24:30.569585Z",
     "start_time": "2021-11-28T13:24:30.455316Z"
    },
    "id": "1GgD5Dw2RjCh"
   },
   "outputs": [],
   "source": [
    "# Прибыль/убыток с учетом трат на улучшения\n",
    "profit = profit_tmp - upgrade_all"
   ]
  },
  {
   "cell_type": "code",
   "execution_count": 152,
   "metadata": {
    "ExecuteTime": {
     "end_time": "2021-11-28T13:24:30.727547Z",
     "start_time": "2021-11-28T13:24:30.573895Z"
    },
    "colab": {
     "base_uri": "https://localhost:8080/"
    },
    "id": "vviA89gByBYW",
    "outputId": "e95c4add-47f7-4852-896c-dea07f933d99"
   },
   "outputs": [
    {
     "data": {
      "text/plain": [
       "-2500.0"
      ]
     },
     "execution_count": 152,
     "metadata": {},
     "output_type": "execute_result"
    }
   ],
   "source": [
    "# Улучшения за счет ОСА в месяц\n",
    "upgrade_osa = df_debts[df_debts['Категория'] == 'улучшения']['Сумма'].sum()\n",
    "upgrade_osa"
   ]
  },
  {
   "cell_type": "code",
   "execution_count": 153,
   "metadata": {
    "ExecuteTime": {
     "end_time": "2021-11-28T13:24:30.845683Z",
     "start_time": "2021-11-28T13:24:30.738372Z"
    },
    "colab": {
     "base_uri": "https://localhost:8080/"
    },
    "id": "DJOifZJNy7ks",
    "outputId": "615b9c55-02ff-4e6e-c47a-4c8eafc651a2"
   },
   "outputs": [
    {
     "data": {
      "text/plain": [
       "0.0"
      ]
     },
     "execution_count": 153,
     "metadata": {},
     "output_type": "execute_result"
    }
   ],
   "source": [
    "# Улучшения за счет ЦКБ в месяц\n",
    "upgrade_ckb = upgrade_all - upgrade_osa\n",
    "upgrade_ckb"
   ]
  },
  {
   "cell_type": "code",
   "execution_count": 154,
   "metadata": {
    "ExecuteTime": {
     "end_time": "2021-11-28T13:24:31.020468Z",
     "start_time": "2021-11-28T13:24:30.852700Z"
    },
    "colab": {
     "base_uri": "https://localhost:8080/"
    },
    "id": "MfQhGabBzeoV",
    "outputId": "9aa666b9-07c0-4805-f903-7d5c9984c72b"
   },
   "outputs": [
    {
     "data": {
      "text/plain": [
       "-1250.0"
      ]
     },
     "execution_count": 154,
     "metadata": {},
     "output_type": "execute_result"
    }
   ],
   "source": [
    "# Улучшения 50/50: ЦКБ -> ОСА\n",
    "upgrade_debts = upgrade_osa / 2 - (upgrade_osa / 2 % 50) - upgrade_ckb / 2 - (\n",
    "    upgrade_ckb / 2 % 50)\n",
    "upgrade_debts"
   ]
  },
  {
   "cell_type": "code",
   "execution_count": 155,
   "metadata": {
    "ExecuteTime": {
     "end_time": "2021-11-28T13:24:31.132865Z",
     "start_time": "2021-11-28T13:24:31.025329Z"
    },
    "colab": {
     "base_uri": "https://localhost:8080/"
    },
    "id": "1sr749K31LKJ",
    "outputId": "8efc2692-b58f-4e7d-ab60-be52fb7a3a17"
   },
   "outputs": [
    {
     "name": "stdout",
     "output_type": "stream",
     "text": [
      "Улучшения 50/50: ЦКБ -> ОСА 1250.0\n"
     ]
    }
   ],
   "source": [
    "# Итог по улучшениям\n",
    "if upgrade_osa <= upgrade_ckb:\n",
    "    print('Улучшения 50/50: ЦКБ -> ОСА', -upgrade_debts)\n",
    "else:\n",
    "    print('Улучшения 50/50: ОСА -> ЦКБ', upgrade_debts)"
   ]
  },
  {
   "cell_type": "markdown",
   "metadata": {
    "id": "t5hLa0jy3m4O"
   },
   "source": [
    "### Расчет прибыли/убытка и аренды"
   ]
  },
  {
   "cell_type": "code",
   "execution_count": 156,
   "metadata": {
    "ExecuteTime": {
     "end_time": "2021-11-28T13:24:31.305532Z",
     "start_time": "2021-11-28T13:24:31.137281Z"
    },
    "id": "oV27-uFD6hD6"
   },
   "outputs": [],
   "source": [
    "rent = 10000\n",
    "coef = 0.7\n",
    "\n",
    "\n",
    "def profit_calculation(profit, rent=rent, coef=coef):\n",
    "    \"\"\"\n",
    "    Доход ОСА и ЦКБ\n",
    "    \"\"\"\n",
    "    if profit >= 0:\n",
    "        if (profit * coef) % 50 == 0:\n",
    "            ckb = profit * coef // 50 * 50\n",
    "            osa = profit - profit * coef // 50 * 50\n",
    "        else:\n",
    "            ckb = (profit * coef + 50) // 50 * 50\n",
    "            osa = profit - (profit * coef + 50) // 50 * 50\n",
    "    elif -rent <= profit < 0:\n",
    "        if (profit * coef) % 50 == 0:\n",
    "            # Аренду убираем, оставляем только прибыль. Аренда rent.\n",
    "            ckb = ((profit + rent) * coef) // 50 * 50\n",
    "            osa = (profit + rent) - (profit + rent) * coef // 50 * 50\n",
    "        else:\n",
    "            ckb = ((profit + rent) * coef + 50) // 50 * 50\n",
    "            osa = (profit + rent) - ((profit + rent) * coef + 50) // 50 * 50\n",
    "    else:\n",
    "        ckb = 0\n",
    "        osa = 0\n",
    "    return ckb, osa"
   ]
  },
  {
   "cell_type": "code",
   "execution_count": 157,
   "metadata": {
    "ExecuteTime": {
     "end_time": "2021-11-28T13:24:31.494782Z",
     "start_time": "2021-11-28T13:24:31.310666Z"
    },
    "id": "ZtjGD4obHdUL"
   },
   "outputs": [],
   "source": [
    "assert profit_calculation(profit=0, rent=rent, coef = coef) == (0, 0)\n",
    "assert profit_calculation(profit=-30000, rent=rent, coef = coef) == (0, 0)\n",
    "assert profit_calculation(profit=-31000, rent=rent, coef = coef) == (0, 0)\n",
    "assert profit_calculation(profit=-10000, rent=rent, coef = coef) == (0, 0)\n",
    "\n",
    "assert profit_calculation(profit=10000, rent=rent, coef = coef) == (7000, 3000)\n",
    "assert profit_calculation(profit=10050, rent=rent, coef = coef) == (7050, 3000)\n",
    "\n",
    "assert profit_calculation(profit=-5000, rent=rent, coef = coef) == (3500, 1500)\n",
    "assert profit_calculation(profit=-5050, rent=rent, coef = coef) == (3500, 1450)"
   ]
  },
  {
   "cell_type": "code",
   "execution_count": 158,
   "metadata": {
    "ExecuteTime": {
     "end_time": "2021-11-28T13:24:31.619923Z",
     "start_time": "2021-11-28T13:24:31.500127Z"
    },
    "id": "3UYcZj-k7NfU"
   },
   "outputs": [],
   "source": [
    "def rent_calculation(profit, rent=rent):\n",
    "    if profit > 0:\n",
    "        return rent / 2\n",
    "    else:\n",
    "        return 0"
   ]
  },
  {
   "cell_type": "code",
   "execution_count": 159,
   "metadata": {
    "ExecuteTime": {
     "end_time": "2021-11-28T13:24:31.742940Z",
     "start_time": "2021-11-28T13:24:31.624499Z"
    },
    "id": "wlIJjg-BQdhc"
   },
   "outputs": [],
   "source": [
    "assert rent_calculation(profit=0, rent=rent) == 0\n",
    "assert rent_calculation(profit=-500, rent=rent) == 0\n",
    "assert rent_calculation(profit=500, rent=rent) == 5000"
   ]
  },
  {
   "cell_type": "markdown",
   "metadata": {},
   "source": [
    "### Формирование структуры отчета"
   ]
  },
  {
   "cell_type": "code",
   "execution_count": 160,
   "metadata": {
    "ExecuteTime": {
     "end_time": "2021-11-28T13:24:31.895754Z",
     "start_time": "2021-11-28T13:24:31.747556Z"
    },
    "colab": {
     "base_uri": "https://localhost:8080/"
    },
    "id": "3c5yxhNYz_7R",
    "outputId": "c6f29e62-bfdd-4902-8f63-2db0608804e9"
   },
   "outputs": [
    {
     "data": {
      "text/plain": [
       "['Итоги Oct 2021г.:',\n",
       " 'Аренда: 0р. ЦКБ, 0р. ОСА',\n",
       " 'Чистая прибыль/убыток: -30150.0р. ЦКБ 0р. ОСА 0р.',\n",
       " '-----',\n",
       " 'Долги ДК -> ОСА 1650.0р.',\n",
       " \"28 [nan '23.10.2021' -550.0 'расход' 'амортизация' 'Строительный выгон' 'да' 'пена+пистолет' 'сергей']\",\n",
       " \"35 [nan '21.11.21' -1050.0 'расход' 'амортизация' 'резинотехника' 'да' 'шланг 15м' 'сергей']\",\n",
       " \"36 [nan '21.11.21' -50.0 'расход' 'амортизация' 'КрепежСервис' 'да' 'хомуты' 'сергей']\",\n",
       " '-----',\n",
       " 'Улучшения 50/50: ЦКБ -> ОСА 1250.0р.',\n",
       " \"12 [nan '09.10.2021' -400.0 'расход' 'улучшения' 'озон' 'да' 'держатель отверок в дк2' 'сергей']\",\n",
       " \"22 [nan '17.10.2021' -2100.0 'расход' 'улучшения' 'КрепежСервис' 'да' 'и ижинструмент' 'сергей']\",\n",
       " '-----',\n",
       " 'Итого с ЦКБ -> ОСА 2900.0р.']"
      ]
     },
     "execution_count": 160,
     "metadata": {},
     "output_type": "execute_result"
    }
   ],
   "source": [
    "from datetime import datetime as dt\n",
    "from datetime import timedelta\n",
    "report_period = dt.now().date()\n",
    "report_period = report_period-timedelta(days=report_period.day)\n",
    "text = ''\n",
    "text += f\"Итоги {report_period.strftime('%b %Y')}г.:\\n\"\n",
    "text += f'Аренда: {rent_calculation(profit)}р. ЦКБ, {rent_calculation(profit)}р. ОСА\\n'\n",
    "text += f\"Чистая прибыль/убыток: {profit}р. ЦКБ {profit_calculation(profit)[0]}р. ОСА {profit_calculation(profit)[1]}р.\\n-----\\n\"\n",
    "text += f\"Долги ДК -> ОСА {-debt_dk_to_osa}р.\\n\"\n",
    "\n",
    "for i, row in df_debts[~(df_debts['Категория']=='улучшения')].iterrows():\n",
    "    if df_debts[~(df_debts['Категория']=='улучшения')].shape[0]!=0:\n",
    "        row_without_line_break = str(row.values).replace('\\n', '')\n",
    "        text += f\"{i} {row_without_line_break}\\n\"\n",
    "\n",
    "text +='-----\\n'  \n",
    "# Итог по улучшениям\n",
    "upgrade=0\n",
    "if upgrade_osa <= upgrade_ckb:\n",
    "   text += f'Улучшения 50/50: ЦКБ -> ОСА {-upgrade_debts}р.\\n'\n",
    "   upgrade=-upgrade_debts\n",
    "else:\n",
    "    text += f'Улучшения 50/50: ОСА -> ЦКБ {upgrade_debts}р.\\n'\n",
    "    upgrade=upgrade_debts\n",
    "\n",
    "for i, row in df_debts[(df_debts['Категория']=='улучшения')].iterrows():\n",
    "    if df_debts[(df_debts['Категория']=='улучшения')].shape[0]!=0:\n",
    "        row_without_line_break = str(row.values).replace('\\n', '')\n",
    "        text += f\"{i} {row_without_line_break}\\n\"\n",
    "\n",
    "text +='-----\\n'  \n",
    "text += f\"Итого с ЦКБ -> ОСА {rent_calculation(profit)+profit_calculation(profit)[1]-debt_dk_to_osa+upgrade}р.\"\n",
    "text_list = text.split('\\n')\n",
    "text_list"
   ]
  },
  {
   "cell_type": "markdown",
   "metadata": {},
   "source": [
    "## Отправка отчета в ВК\n",
    "Отправка с помощью библиотеки selenium"
   ]
  },
  {
   "cell_type": "code",
   "execution_count": 161,
   "metadata": {
    "ExecuteTime": {
     "end_time": "2021-11-28T13:24:53.794651Z",
     "start_time": "2021-11-28T13:24:31.900207Z"
    }
   },
   "outputs": [
    {
     "name": "stdout",
     "output_type": "stream",
     "text": [
      "Requirement already satisfied: selenium in /home/grey/anaconda3/lib/python3.8/site-packages (4.1.0)\n",
      "Requirement already satisfied: trio-websocket~=0.9 in /home/grey/anaconda3/lib/python3.8/site-packages (from selenium) (0.9.2)\n",
      "Requirement already satisfied: trio~=0.17 in /home/grey/anaconda3/lib/python3.8/site-packages (from selenium) (0.19.0)\n",
      "Requirement already satisfied: urllib3[secure]~=1.26 in /home/grey/anaconda3/lib/python3.8/site-packages (from selenium) (1.26.4)\n",
      "Requirement already satisfied: idna in /home/grey/anaconda3/lib/python3.8/site-packages (from trio~=0.17->selenium) (2.10)\n",
      "Requirement already satisfied: outcome in /home/grey/anaconda3/lib/python3.8/site-packages (from trio~=0.17->selenium) (1.1.0)\n",
      "Requirement already satisfied: sniffio in /home/grey/anaconda3/lib/python3.8/site-packages (from trio~=0.17->selenium) (1.2.0)\n",
      "Requirement already satisfied: attrs>=19.2.0 in /home/grey/anaconda3/lib/python3.8/site-packages (from trio~=0.17->selenium) (20.3.0)\n",
      "Requirement already satisfied: async-generator>=1.9 in /home/grey/anaconda3/lib/python3.8/site-packages (from trio~=0.17->selenium) (1.10)\n",
      "Requirement already satisfied: sortedcontainers in /home/grey/anaconda3/lib/python3.8/site-packages (from trio~=0.17->selenium) (2.3.0)\n",
      "Requirement already satisfied: wsproto>=0.14 in /home/grey/anaconda3/lib/python3.8/site-packages (from trio-websocket~=0.9->selenium) (1.0.0)\n",
      "Requirement already satisfied: pyOpenSSL>=0.14 in /home/grey/anaconda3/lib/python3.8/site-packages (from urllib3[secure]~=1.26->selenium) (20.0.1)\n",
      "Requirement already satisfied: cryptography>=1.3.4 in /home/grey/anaconda3/lib/python3.8/site-packages (from urllib3[secure]~=1.26->selenium) (3.4.7)\n",
      "Requirement already satisfied: certifi in /home/grey/anaconda3/lib/python3.8/site-packages (from urllib3[secure]~=1.26->selenium) (2020.12.5)\n",
      "Requirement already satisfied: cffi>=1.12 in /home/grey/anaconda3/lib/python3.8/site-packages (from cryptography>=1.3.4->urllib3[secure]~=1.26->selenium) (1.14.5)\n",
      "Requirement already satisfied: pycparser in /home/grey/anaconda3/lib/python3.8/site-packages (from cffi>=1.12->cryptography>=1.3.4->urllib3[secure]~=1.26->selenium) (2.20)\n",
      "Requirement already satisfied: six>=1.5.2 in /home/grey/anaconda3/lib/python3.8/site-packages (from pyOpenSSL>=0.14->urllib3[secure]~=1.26->selenium) (1.15.0)\n",
      "Requirement already satisfied: h11<1,>=0.9.0 in /home/grey/anaconda3/lib/python3.8/site-packages (from wsproto>=0.14->trio-websocket~=0.9->selenium) (0.12.0)\n"
     ]
    }
   ],
   "source": [
    "!pip install selenium"
   ]
  },
  {
   "cell_type": "code",
   "execution_count": 162,
   "metadata": {
    "ExecuteTime": {
     "end_time": "2021-11-28T13:25:26.388983Z",
     "start_time": "2021-11-28T13:24:53.801462Z"
    },
    "code_folding": []
   },
   "outputs": [
    {
     "name": "stderr",
     "output_type": "stream",
     "text": [
      "<ipython-input-162-6def35b3b8db>:9: DeprecationWarning: executable_path has been deprecated, please pass in a Service object\n",
      "  driver = webdriver.Chrome('/home/grey/documents/pet_project/chromedriver')\n",
      "<ipython-input-162-6def35b3b8db>:12: DeprecationWarning: find_element_by_* commands are deprecated. Please use find_element() instead\n",
      "  login = driver.find_element_by_id(\"index_email\")\n",
      "<ipython-input-162-6def35b3b8db>:16: DeprecationWarning: find_element_by_* commands are deprecated. Please use find_element() instead\n",
      "  pswd = driver.find_element_by_id(\"index_pass\")\n",
      "<ipython-input-162-6def35b3b8db>:20: DeprecationWarning: find_element_by_* commands are deprecated. Please use find_element() instead\n",
      "  btm_signin = driver.find_element_by_class_name('index_login_button.flat_button.button_big_text')\n",
      "<ipython-input-162-6def35b3b8db>:32: DeprecationWarning: find_element_by_* commands are deprecated. Please use find_element() instead\n",
      "  entry_field = driver.find_element_by_class_name('im_editable.im-chat-input--text._im_text')\n",
      "<ipython-input-162-6def35b3b8db>:38: DeprecationWarning: find_element_by_* commands are deprecated. Please use find_element() instead\n",
      "  btm_send = driver.find_element_by_class_name('im-send-btn.im-chat-input--send._im_send.im-send-btn_send')\n"
     ]
    }
   ],
   "source": [
    "import time\n",
    "from selenium import webdriver\n",
    "from selenium.webdriver.common.keys import Keys\n",
    "from selenium.webdriver.common.by import By\n",
    "\n",
    "LOGIN = ''\n",
    "PASSWORD = ''\n",
    "\n",
    "driver = webdriver.Chrome('/home/grey/documents/pet_project/chromedriver')\n",
    "driver.get(\"http://www.vk.com\")\n",
    "\n",
    "login = driver.find_element_by_id(\"index_email\")\n",
    "login.clear()\n",
    "login.send_keys(LOGIN)\n",
    "\n",
    "pswd = driver.find_element_by_id(\"index_pass\")\n",
    "pswd.clear()\n",
    "pswd.send_keys(PASSWORD)\n",
    "\n",
    "btm_signin = driver.find_element_by_class_name('index_login_button.flat_button.button_big_text')\n",
    "btm_signin.click()\n",
    "time.sleep(3)\n",
    "\n",
    "msg = driver.find_element(By.XPATH, '//span[text()=\"Мессенджер\"]')\n",
    "msg.click()\n",
    "time.sleep(3)\n",
    "\n",
    "talk_dk = driver.find_element(By.XPATH, '//span[text()=\"Доктор кузов\"]')\n",
    "talk_dk.click()\n",
    "time.sleep(3)\n",
    "\n",
    "entry_field = driver.find_element_by_class_name('im_editable.im-chat-input--text._im_text')\n",
    "\n",
    "\n",
    "entry_field.clear()\n",
    "for el in text_list:\n",
    "    entry_field.send_keys(el)\n",
    "    btm_send = driver.find_element_by_class_name('im-send-btn.im-chat-input--send._im_send.im-send-btn_send')\n",
    "    time.sleep(0.4)\n",
    "    btm_send.click()\n",
    "\n",
    "driver.close()"
   ]
  },
  {
   "cell_type": "markdown",
   "metadata": {},
   "source": [
    "## Иное\n",
    "Изначально задумка была сделать отправку в ВК используя API функции. План провалился - либо ума не хватило, либо действительно такие отправки заколотили гвоздями."
   ]
  },
  {
   "cell_type": "code",
   "execution_count": 163,
   "metadata": {
    "ExecuteTime": {
     "end_time": "2021-11-28T13:25:26.400922Z",
     "start_time": "2021-11-28T13:25:26.394080Z"
    },
    "colab": {
     "base_uri": "https://localhost:8080/",
     "height": 52
    },
    "id": "sli_7eJigoyp",
    "outputId": "77716905-2340-454d-d54f-599d1bb1dde0"
   },
   "outputs": [],
   "source": [
    "# import requests\n",
    "# import random\n",
    "\n",
    "# MESSAGES_SEND_REQUEST = 'https://api.vk.com/method/messages.send'\n",
    "\n",
    "# with open('token.txt', 'r') as file_object:\n",
    "#     token_group = file_object.read().strip()\n",
    "# VERSION = '5.131'\n",
    "\n",
    "# rand = random.randint(0, 2**32)\n",
    "# params = {\n",
    "#     'access_token': token_group,\n",
    "#     'user_id': 10398721,\n",
    "#     'random_id': rand,\n",
    "#     'message': text,\n",
    "#     'v': VERSION,\n",
    "# }\n",
    "\n",
    "# response = requests.post(MESSAGES_SEND_REQUEST, params)\n",
    "# print(response)\n",
    "# response.text"
   ]
  }
 ],
 "metadata": {
  "colab": {
   "collapsed_sections": [],
   "name": "monthly report_doktor_kuzov.ipynb",
   "provenance": []
  },
  "kernelspec": {
   "display_name": "Python 3",
   "language": "python",
   "name": "python3"
  },
  "language_info": {
   "codemirror_mode": {
    "name": "ipython",
    "version": 3
   },
   "file_extension": ".py",
   "mimetype": "text/x-python",
   "name": "python",
   "nbconvert_exporter": "python",
   "pygments_lexer": "ipython3",
   "version": "3.8.8"
  },
  "nbTranslate": {
   "displayLangs": [
    "*"
   ],
   "hotkey": "alt-t",
   "langInMainMenu": true,
   "sourceLang": "en",
   "targetLang": "fr",
   "useGoogleTranslate": true
  },
  "toc": {
   "base_numbering": 1,
   "nav_menu": {},
   "number_sections": true,
   "sideBar": true,
   "skip_h1_title": false,
   "title_cell": "Table of Contents",
   "title_sidebar": "Contents",
   "toc_cell": false,
   "toc_position": {
    "height": "calc(100% - 180px)",
    "left": "10px",
    "top": "150px",
    "width": "165px"
   },
   "toc_section_display": true,
   "toc_window_display": false
  },
  "varInspector": {
   "cols": {
    "lenName": 16,
    "lenType": 16,
    "lenVar": 40
   },
   "kernels_config": {
    "python": {
     "delete_cmd_postfix": "",
     "delete_cmd_prefix": "del ",
     "library": "var_list.py",
     "varRefreshCmd": "print(var_dic_list())"
    },
    "r": {
     "delete_cmd_postfix": ") ",
     "delete_cmd_prefix": "rm(",
     "library": "var_list.r",
     "varRefreshCmd": "cat(var_dic_list()) "
    }
   },
   "position": {
    "height": "444.844px",
    "left": "996px",
    "right": "20px",
    "top": "120px",
    "width": "350px"
   },
   "types_to_exclude": [
    "module",
    "function",
    "builtin_function_or_method",
    "instance",
    "_Feature"
   ],
   "window_display": false
  }
 },
 "nbformat": 4,
 "nbformat_minor": 1
}
