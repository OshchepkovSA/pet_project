{
 "cells": [
  {
   "cell_type": "markdown",
   "metadata": {
    "id": "beM9tStKR6gX"
   },
   "source": [
    "### Крестики нолики наоборот"
   ]
  },
  {
   "cell_type": "markdown",
   "metadata": {
    "id": "LnJbPTC6inpI"
   },
   "source": [
    "1. Игрок человек начинает ходить первым\n",
    "1. У игрока человека всегда крестики\n",
    "1. Игровое поле можно задавать любого разумного размера"
   ]
  },
  {
   "cell_type": "markdown",
   "metadata": {
    "id": "Rhx7uDahRLS3"
   },
   "source": [
    "TODO:\n",
    "1. Выход через q\n",
    "1. Очистку экрана консоли\n",
    "\n"
   ]
  },
  {
   "cell_type": "code",
   "execution_count": 126,
   "metadata": {
    "ExecuteTime": {
     "end_time": "2022-02-07T18:30:39.813528Z",
     "start_time": "2022-02-07T18:30:39.809908Z"
    },
    "executionInfo": {
     "elapsed": 392,
     "status": "ok",
     "timestamp": 1644124140988,
     "user": {
      "displayName": "Сергей Ощепков",
      "photoUrl": "https://lh3.googleusercontent.com/a/default-user=s64",
      "userId": "03441214959068953559"
     },
     "user_tz": -240
    },
    "id": "R9b9hBIkgZlL"
   },
   "outputs": [],
   "source": [
    "import numpy as np\n",
    "import random"
   ]
  },
  {
   "cell_type": "code",
   "execution_count": 127,
   "metadata": {
    "ExecuteTime": {
     "end_time": "2022-02-07T18:30:39.943314Z",
     "start_time": "2022-02-07T18:30:39.835271Z"
    },
    "executionInfo": {
     "elapsed": 27,
     "status": "ok",
     "timestamp": 1644124141427,
     "user": {
      "displayName": "Сергей Ощепков",
      "photoUrl": "https://lh3.googleusercontent.com/a/default-user=s64",
      "userId": "03441214959068953559"
     },
     "user_tz": -240
    },
    "id": "F03hpk7MkcS1"
   },
   "outputs": [],
   "source": [
    "rows, cols = 10, 10  # Size can be changed\n",
    "length_lose = 5  # Length for lose\n"
   ]
  },
  {
   "cell_type": "code",
   "execution_count": 128,
   "metadata": {
    "ExecuteTime": {
     "end_time": "2022-02-07T18:30:40.158951Z",
     "start_time": "2022-02-07T18:30:39.946237Z"
    },
    "executionInfo": {
     "elapsed": 27,
     "status": "ok",
     "timestamp": 1644124141429,
     "user": {
      "displayName": "Сергей Ощепков",
      "photoUrl": "https://lh3.googleusercontent.com/a/default-user=s64",
      "userId": "03441214959068953559"
     },
     "user_tz": -240
    },
    "id": "AoZnNggGkxM1"
   },
   "outputs": [],
   "source": [
    "def create_game_field(rows=rows, cols=cols):\n",
    "    \"\"\"Create new game field\"\"\"\n",
    "    field = np.zeros([rows, cols])\n",
    "    return field\n",
    "    "
   ]
  },
  {
   "cell_type": "code",
   "execution_count": 129,
   "metadata": {
    "ExecuteTime": {
     "end_time": "2022-02-07T18:30:40.271054Z",
     "start_time": "2022-02-07T18:30:40.162815Z"
    },
    "executionInfo": {
     "elapsed": 27,
     "status": "ok",
     "timestamp": 1644124141430,
     "user": {
      "displayName": "Сергей Ощепков",
      "photoUrl": "https://lh3.googleusercontent.com/a/default-user=s64",
      "userId": "03441214959068953559"
     },
     "user_tz": -240
    },
    "id": "BBy0MVu9jhVy"
   },
   "outputs": [],
   "source": [
    "def drow_game_field(field, rows=rows, cols=cols):\n",
    "    \"\"\"Drow and print game field\"\"\"\n",
    "    print('New round!')\n",
    "    drow = [[None]*cols]*rows\n",
    "    print(f\"  |\", end='')  # Offset 2 characters\n",
    "    for cnt_y, y in enumerate(field[0]):\n",
    "        print(f\"{cnt_y+1:2.0f}|\", end='')\n",
    "    print('')    \n",
    "    for cnt_x, x in enumerate(field):\n",
    "        print(f\"{cnt_x+1:2.0f}|\", end='')  # Offset 2 characters\n",
    "        for cnt_y, y in enumerate(x):       \n",
    "            if y==0:\n",
    "                drow[cnt_x][cnt_y] = '  |'\n",
    "                print(drow[cnt_x][cnt_y], end='')\n",
    "            elif y==1:\n",
    "                drow[cnt_x][cnt_y] = ' X|'\n",
    "                print(drow[cnt_x][cnt_y], end='')\n",
    "            elif y==2:\n",
    "                drow[cnt_x][cnt_y] = ' O|'\n",
    "                print(drow[cnt_x][cnt_y], end='')\n",
    "        print('')\n"
   ]
  },
  {
   "cell_type": "code",
   "execution_count": 130,
   "metadata": {
    "ExecuteTime": {
     "end_time": "2022-02-07T18:30:40.421660Z",
     "start_time": "2022-02-07T18:30:40.274467Z"
    },
    "executionInfo": {
     "elapsed": 27,
     "status": "ok",
     "timestamp": 1644124141432,
     "user": {
      "displayName": "Сергей Ощепков",
      "photoUrl": "https://lh3.googleusercontent.com/a/default-user=s64",
      "userId": "03441214959068953559"
     },
     "user_tz": -240
    },
    "id": "5SpDrknMgZoN"
   },
   "outputs": [],
   "source": [
    "def is_cells_void(field, move, rows=rows, cols=cols):\n",
    "    \"\"\"Checking the correctness of the input by the player of the coordinates of the field\"\"\"\n",
    "    if field[move[0]-1][move[1]-1]==0:\n",
    "        return True\n",
    "    return False \n",
    "    "
   ]
  },
  {
   "cell_type": "code",
   "execution_count": 131,
   "metadata": {
    "ExecuteTime": {
     "end_time": "2022-02-07T18:30:40.536834Z",
     "start_time": "2022-02-07T18:30:40.424659Z"
    },
    "executionInfo": {
     "elapsed": 27,
     "status": "ok",
     "timestamp": 1644124141434,
     "user": {
      "displayName": "Сергей Ощепков",
      "photoUrl": "https://lh3.googleusercontent.com/a/default-user=s64",
      "userId": "03441214959068953559"
     },
     "user_tz": -240
    },
    "id": "M45HxjpJCcKo"
   },
   "outputs": [],
   "source": [
    "def change_game_field(field, move, player):\n",
    "    \"\"\"Making changes to the playing field after a move has been made\"\"\"\n",
    "    if player:\n",
    "        field[move[0]-1][move[1]-1] = 1  # 1 - move human, drow cross\n",
    "    else:\n",
    "        field[move[0]-1][move[1]-1] = 2  # 2 - move AI, drow zero\n",
    "    return field\n",
    "    "
   ]
  },
  {
   "cell_type": "code",
   "execution_count": 132,
   "metadata": {
    "ExecuteTime": {
     "end_time": "2022-02-07T18:30:40.671087Z",
     "start_time": "2022-02-07T18:30:40.539614Z"
    },
    "executionInfo": {
     "elapsed": 28,
     "status": "ok",
     "timestamp": 1644124141436,
     "user": {
      "displayName": "Сергей Ощепков",
      "photoUrl": "https://lh3.googleusercontent.com/a/default-user=s64",
      "userId": "03441214959068953559"
     },
     "user_tz": -240
    },
    "id": "YAZ1YFVOdt56"
   },
   "outputs": [],
   "source": [
    "def search_void_cells(field, rows=rows, cols=cols):\n",
    "    \"\"\"Returns the indices of null values\"\"\"\n",
    "    void_cells = []\n",
    "    for cnt_x, x in enumerate(field):\n",
    "        for cnt_y, y in enumerate(x):\n",
    "            if field[cnt_x][cnt_y]==0:\n",
    "                void_cells.append((cnt_x+1, cnt_y+1))\n",
    "    return void_cells\n",
    "    "
   ]
  },
  {
   "cell_type": "code",
   "execution_count": 133,
   "metadata": {
    "ExecuteTime": {
     "end_time": "2022-02-07T18:30:40.803639Z",
     "start_time": "2022-02-07T18:30:40.674381Z"
    },
    "executionInfo": {
     "elapsed": 28,
     "status": "ok",
     "timestamp": 1644124141438,
     "user": {
      "displayName": "Сергей Ощепков",
      "photoUrl": "https://lh3.googleusercontent.com/a/default-user=s64",
      "userId": "03441214959068953559"
     },
     "user_tz": -240
    },
    "id": "vBaKVMR0jHPH"
   },
   "outputs": [],
   "source": [
    "def ai_player(field, player, rows=rows, cols=cols):\n",
    "    \"\"\"AI player move\"\"\"\n",
    "    void_cells = search_void_cells(field, rows=rows, cols=cols)\n",
    "    move = random.choice(void_cells)\n",
    "    field = change_game_field(field, move, player)\n",
    "    return field, move\n",
    "    "
   ]
  },
  {
   "cell_type": "code",
   "execution_count": 134,
   "metadata": {
    "ExecuteTime": {
     "end_time": "2022-02-07T18:30:40.927655Z",
     "start_time": "2022-02-07T18:30:40.809051Z"
    },
    "executionInfo": {
     "elapsed": 27,
     "status": "ok",
     "timestamp": 1644124141439,
     "user": {
      "displayName": "Сергей Ощепков",
      "photoUrl": "https://lh3.googleusercontent.com/a/default-user=s64",
      "userId": "03441214959068953559"
     },
     "user_tz": -240
    },
    "id": "_s8EJO5hjeCy"
   },
   "outputs": [],
   "source": [
    "def is_finish_game(field, move, player, rows=rows, cols=cols, length_lose=length_lose):\n",
    "    \"\"\"Determines whether the end of the game has come\"\"\"\n",
    "    if field.min()!=0:  # Not free cells, draw in game\n",
    "        player = 2  # 2 it`s index - no free cells\n",
    "        return True, player\n",
    "    if full_length(field, move, player, rows=rows, cols=cols, length_lose=length_lose):  # Find line, game over\n",
    "        return True, player\n",
    "    return False, player\n",
    "    "
   ]
  },
  {
   "cell_type": "code",
   "execution_count": 135,
   "metadata": {
    "ExecuteTime": {
     "end_time": "2022-02-07T18:30:41.106160Z",
     "start_time": "2022-02-07T18:30:40.934213Z"
    },
    "executionInfo": {
     "elapsed": 29,
     "status": "ok",
     "timestamp": 1644124141443,
     "user": {
      "displayName": "Сергей Ощепков",
      "photoUrl": "https://lh3.googleusercontent.com/a/default-user=s64",
      "userId": "03441214959068953559"
     },
     "user_tz": -240
    },
    "id": "CZS9dmEcpTcO"
   },
   "outputs": [],
   "source": [
    "def full_length(field, move, player, rows=rows, cols=cols, length_lose=length_lose):\n",
    "    \"\"\"Function search line, which will complete the game\"\"\"\n",
    "    cnt_y_min = 0 if (move[0]-1)-(length_lose-1)<=0 else (move[0]-1)-(length_lose-1)\n",
    "    cnt_y_max = rows if (move[0]-1)+length_lose>rows else (move[0]-1)+length_lose\n",
    "    if game_end_columns(field, move, cnt_y_min, cnt_y_max, length_lose=length_lose):\n",
    "        return True\n",
    "    \n",
    "    cnt_x_min = 0 if (move[1]-1)-(length_lose-1)<=0 else (move[1]-1)-(length_lose-1)\n",
    "    cnt_x_max = cols if (move[1]-1)+length_lose>cols else (move[1]-1)+length_lose\n",
    "    if game_end_rows(field, move, cnt_x_min, cnt_x_max, length_lose=length_lose):\n",
    "        return True\n",
    "\n",
    "    diag_x_min = (move[1])\n",
    "    diag_y_min = (move[0])\n",
    "    for el in range(length_lose):\n",
    "        diag_x_min -= 1\n",
    "        diag_y_min -= 1\n",
    "        if diag_y_min==0 or diag_x_min==0:\n",
    "            break\n",
    "    diag_x_max = cnt_x_max  \n",
    "    diag_y_max = cnt_y_max  \n",
    "    if game_end_diagonals(field, diag_x_min, diag_y_min, diag_x_max, diag_y_max, length_lose=length_lose):\n",
    "        return True\n",
    "\n",
    "    if game_end_anti_diagonals(field, move, length_lose=length_lose):\n",
    "        return True\n",
    "    return False\n",
    "    "
   ]
  },
  {
   "cell_type": "code",
   "execution_count": 136,
   "metadata": {
    "ExecuteTime": {
     "end_time": "2022-02-07T18:30:41.262065Z",
     "start_time": "2022-02-07T18:30:41.111539Z"
    },
    "executionInfo": {
     "elapsed": 425,
     "status": "ok",
     "timestamp": 1644124141841,
     "user": {
      "displayName": "Сергей Ощепков",
      "photoUrl": "https://lh3.googleusercontent.com/a/default-user=s64",
      "userId": "03441214959068953559"
     },
     "user_tz": -240
    },
    "id": "22h3vyhAfx5e"
   },
   "outputs": [],
   "source": [
    "def game_end_columns(field, move, cnt_y_min, cnt_y_max, length_lose=length_lose):\n",
    "    \"\"\"The function looks for length_lose crosses or zeros in a row in a column\"\"\"\n",
    "    cnt_lose_hum = 0\n",
    "    cnt_lose_ai = 0\n",
    "    for y in range(cnt_y_min, cnt_y_max):\n",
    "        if field[y][move[1]-1]==1:  # Search lose player\n",
    "            cnt_lose_hum += 1\n",
    "            if cnt_lose_hum==length_lose:\n",
    "                return True\n",
    "        elif (field[y][move[1]-1]==0) or (field[y][move[1]-1]==2):\n",
    "            cnt_lose_hum = 0\n",
    "\n",
    "        if field[y][move[1]-1]==2:  # Search lose AI\n",
    "            cnt_lose_ai += 1\n",
    "            if cnt_lose_ai==length_lose:\n",
    "                return True\n",
    "        elif (field[y][move[1]-1]==0) or (field[y][move[1]-1]==1):\n",
    "            cnt_lose_ai = 0\n",
    "    return False\n",
    "    "
   ]
  },
  {
   "cell_type": "code",
   "execution_count": 137,
   "metadata": {
    "ExecuteTime": {
     "end_time": "2022-02-07T18:30:41.443911Z",
     "start_time": "2022-02-07T18:30:41.267045Z"
    },
    "executionInfo": {
     "elapsed": 35,
     "status": "ok",
     "timestamp": 1644124141843,
     "user": {
      "displayName": "Сергей Ощепков",
      "photoUrl": "https://lh3.googleusercontent.com/a/default-user=s64",
      "userId": "03441214959068953559"
     },
     "user_tz": -240
    },
    "id": "lE0i7IrEkyw8"
   },
   "outputs": [],
   "source": [
    "def game_end_rows(field, move, cnt_x_min, cnt_x_max, length_lose=length_lose):\n",
    "    \"\"\" The function looks for length_lose crosses or zeros in a row in a string\"\"\"\n",
    "    cnt_lose_hum = 0\n",
    "    cnt_lose_ai = 0\n",
    "    for x in range(cnt_x_min, cnt_x_max):\n",
    "        if field[move[0]-1][x]==1:  # Lose player\n",
    "            cnt_lose_hum += 1\n",
    "            if cnt_lose_hum==length_lose:\n",
    "                return True\n",
    "        elif (field[move[0]-1][x]==0) or (field[move[0]-1][x]==2):\n",
    "            cnt_lose_hum = 0\n",
    "\n",
    "        if field[move[0]-1][x]==2:  # Lose AI\n",
    "            cnt_lose_ai += 1\n",
    "            if cnt_lose_ai==length_lose:\n",
    "                return True\n",
    "        elif (field[move[0]-1][x]==0) or (field[move[0]-1][x]==1):\n",
    "            cnt_lose_ai = 0\n",
    "    return False\n",
    "    "
   ]
  },
  {
   "cell_type": "code",
   "execution_count": 138,
   "metadata": {
    "ExecuteTime": {
     "end_time": "2022-02-07T18:30:41.561391Z",
     "start_time": "2022-02-07T18:30:41.449270Z"
    },
    "executionInfo": {
     "elapsed": 35,
     "status": "ok",
     "timestamp": 1644124141844,
     "user": {
      "displayName": "Сергей Ощепков",
      "photoUrl": "https://lh3.googleusercontent.com/a/default-user=s64",
      "userId": "03441214959068953559"
     },
     "user_tz": -240
    },
    "id": "4eHIcxtyky2f"
   },
   "outputs": [],
   "source": [
    "def game_end_diagonals(field, diag_x_min, diag_y_min, diag_x_max, diag_y_max, length_lose=length_lose):\n",
    "    \"\"\"The function looks for length_lose crosses or zeros in a row on the main diagonal\"\"\"\n",
    "    matrix = field[diag_y_min:diag_y_max, diag_x_min:diag_x_max]\n",
    "    diag_elements = np.diagonal(np.array(matrix))\n",
    "    cnt_lose_hum = 0\n",
    "    cnt_lose_ai = 0\n",
    "    for el in diag_elements:\n",
    "        if el==1:  # Lose player\n",
    "            cnt_lose_hum += 1\n",
    "            if cnt_lose_hum==length_lose:\n",
    "                return True\n",
    "        elif (el==0) or (el==2):\n",
    "            cnt_lose_hum = 0\n",
    "\n",
    "        if el==2:  # Lose AI \n",
    "            cnt_lose_ai += 1\n",
    "            if cnt_lose_ai==length_lose:\n",
    "                return True\n",
    "        elif (el==0) or (el==1):\n",
    "            cnt_lose_ai = 0\n",
    "    return False\n",
    "    "
   ]
  },
  {
   "cell_type": "code",
   "execution_count": 139,
   "metadata": {
    "ExecuteTime": {
     "end_time": "2022-02-07T18:30:41.711972Z",
     "start_time": "2022-02-07T18:30:41.567386Z"
    },
    "executionInfo": {
     "elapsed": 35,
     "status": "ok",
     "timestamp": 1644124141846,
     "user": {
      "displayName": "Сергей Ощепков",
      "photoUrl": "https://lh3.googleusercontent.com/a/default-user=s64",
      "userId": "03441214959068953559"
     },
     "user_tz": -240
    },
    "id": "nrW1MfWtky_w"
   },
   "outputs": [],
   "source": [
    "def game_end_anti_diagonals(field, move, length_lose=length_lose, rows=rows, cols=cols):\n",
    "    \"\"\"The function looks for length_lose crosses or zeros in a row on the secondary diagonal\"\"\"\n",
    "    rotation_matrix = tuple(zip(*list(field)[::-1]))\n",
    "    move = (move[1], move[0])\n",
    "    diag_x_min = rows - move[1] + 1\n",
    "    diag_y_min = move[0]\n",
    "    for el in range(length_lose):\n",
    "        diag_x_min -= 1\n",
    "        diag_y_min -= 1\n",
    "        if diag_y_min==0 or diag_x_min==0:\n",
    "            break\n",
    "    diag_x_max = rows - move[1] + 1 + length_lose\n",
    "    diag_y_max = move[0] + length_lose\n",
    "    if game_end_diagonals(np.array(rotation_matrix), diag_x_min, diag_y_min, diag_x_max, diag_y_max, length_lose=length_lose):\n",
    "        return True  \n",
    "    return False\n",
    "    "
   ]
  },
  {
   "cell_type": "code",
   "execution_count": 140,
   "metadata": {
    "ExecuteTime": {
     "end_time": "2022-02-07T18:30:41.828353Z",
     "start_time": "2022-02-07T18:30:41.716634Z"
    },
    "executionInfo": {
     "elapsed": 35,
     "status": "ok",
     "timestamp": 1644124141848,
     "user": {
      "displayName": "Сергей Ощепков",
      "photoUrl": "https://lh3.googleusercontent.com/a/default-user=s64",
      "userId": "03441214959068953559"
     },
     "user_tz": -240
    },
    "id": "YPGrwV3iIrUn"
   },
   "outputs": [],
   "source": [
    "def result_game(player):\n",
    "    \"\"\"The fuction print result game\"\"\"\n",
    "    print('Game over')\n",
    "    if player==1:\n",
    "        print(\"You win, try again!\")\n",
    "    elif player==0:\n",
    "        print(\"You lose, try again!\")\n",
    "    elif player==2:\n",
    "        print(\"Draw, try again!\")\n",
    "    else:\n",
    "        print('╰( ͡° ͜ʖ ͡° )つ──☆*:・ﾟ')\n",
    "        "
   ]
  },
  {
   "cell_type": "code",
   "execution_count": 141,
   "metadata": {
    "ExecuteTime": {
     "end_time": "2022-02-07T18:30:41.949671Z",
     "start_time": "2022-02-07T18:30:41.834384Z"
    }
   },
   "outputs": [],
   "source": [
    "def is_int(string):\n",
    "    \"\"\"Checks if the input string is an integer or not\"\"\"\n",
    "    try:\n",
    "        int(string)\n",
    "        return True\n",
    "    except ValueError:\n",
    "        return False\n"
   ]
  },
  {
   "cell_type": "code",
   "execution_count": 142,
   "metadata": {
    "ExecuteTime": {
     "end_time": "2022-02-07T18:30:42.247699Z",
     "start_time": "2022-02-07T18:30:41.954825Z"
    }
   },
   "outputs": [],
   "source": [
    "def input_coord(size_field, message):\n",
    "    \"\"\"Accepts the entered player data and checks their correctness\"\"\"\n",
    "    coord = input(f\"{message} {rows}: \")\n",
    "    if is_int(coord):\n",
    "        if 0<int(coord) & int(coord)<=rows:\n",
    "            return int(coord)\n",
    "    print(\"Enter correct coordinates\")\n",
    "    return False"
   ]
  },
  {
   "cell_type": "code",
   "execution_count": 143,
   "metadata": {
    "ExecuteTime": {
     "end_time": "2022-02-07T18:30:42.359330Z",
     "start_time": "2022-02-07T18:30:42.252822Z"
    },
    "executionInfo": {
     "elapsed": 36,
     "status": "ok",
     "timestamp": 1644124141850,
     "user": {
      "displayName": "Сергей Ощепков",
      "photoUrl": "https://lh3.googleusercontent.com/a/default-user=s64",
      "userId": "03441214959068953559"
     },
     "user_tz": -240
    },
    "id": "hGVv8Qn11QIY"
   },
   "outputs": [],
   "source": [
    "def main():\n",
    "    field = create_game_field(rows=rows, cols=cols)\n",
    "    drow_game_field(field)\n",
    "    player = 1  # 1 - human, 0 - AI\n",
    "    while True:\n",
    "        message = 'Enter the line number of the playing field from 1 to'\n",
    "        x = input_coord(rows, message)\n",
    "        if x==0:\n",
    "            continue\n",
    "        message = 'Enter the number of the playing field column from 1 to'\n",
    "        y = input_coord(cols, message)\n",
    "        if y==0:\n",
    "            continue\n",
    "        move = (x, y)\n",
    "        if is_cells_void(field, move):\n",
    "            field = change_game_field(field, move, player=player)\n",
    "            player = 0\n",
    "        else:\n",
    "            print(\"The cell is busy. Enter correct coordinates\")\n",
    "            continue\n",
    "        drow_game_field(field)\n",
    "        is_finish, player = is_finish_game(field, move, rows=rows, cols=cols, length_lose=length_lose, player=player)\n",
    "        if is_finish:\n",
    "            break\n",
    "        field, move = ai_player(field=field, player=player)\n",
    "        player = 1\n",
    "        drow_game_field(field)\n",
    "        is_finish, player = is_finish_game(field, move, rows=rows, cols=cols, length_lose=length_lose, player=player)\n",
    "        if is_finish:\n",
    "            break\n",
    "    result_game(player=player)\n",
    "    "
   ]
  },
  {
   "cell_type": "code",
   "execution_count": 144,
   "metadata": {
    "ExecuteTime": {
     "end_time": "2022-02-07T18:30:53.826286Z",
     "start_time": "2022-02-07T18:30:42.366311Z"
    },
    "colab": {
     "base_uri": "https://localhost:8080/"
    },
    "executionInfo": {
     "elapsed": 22403,
     "status": "ok",
     "timestamp": 1644124164219,
     "user": {
      "displayName": "Сергей Ощепков",
      "photoUrl": "https://lh3.googleusercontent.com/a/default-user=s64",
      "userId": "03441214959068953559"
     },
     "user_tz": -240
    },
    "id": "fzdCkrsX1xAo",
    "outputId": "2b10638b-9c43-41e0-832f-79f624366024"
   },
   "outputs": [
    {
     "name": "stdout",
     "output_type": "stream",
     "text": [
      "New round!\n",
      "  | 1| 2| 3| 4| 5| 6| 7| 8| 9|10|\n",
      " 1|  |  |  |  |  |  |  |  |  |  |\n",
      " 2|  |  |  |  |  |  |  |  |  |  |\n",
      " 3|  |  |  |  |  |  |  |  |  |  |\n",
      " 4|  |  |  |  |  |  |  |  |  |  |\n",
      " 5|  |  |  |  |  |  |  |  |  |  |\n",
      " 6|  |  |  |  |  |  |  |  |  |  |\n",
      " 7|  |  |  |  |  |  |  |  |  |  |\n",
      " 8|  |  |  |  |  |  |  |  |  |  |\n",
      " 9|  |  |  |  |  |  |  |  |  |  |\n",
      "10|  |  |  |  |  |  |  |  |  |  |\n",
      "Enter the line number of the playing field from 1 to 10: 1\n",
      "Enter the number of the playing field column from 1 to 10: 1\n",
      "New round!\n",
      "  | 1| 2| 3| 4| 5| 6| 7| 8| 9|10|\n",
      " 1| X|  |  |  |  |  |  |  |  |  |\n",
      " 2|  |  |  |  |  |  |  |  |  |  |\n",
      " 3|  |  |  |  |  |  |  |  |  |  |\n",
      " 4|  |  |  |  |  |  |  |  |  |  |\n",
      " 5|  |  |  |  |  |  |  |  |  |  |\n",
      " 6|  |  |  |  |  |  |  |  |  |  |\n",
      " 7|  |  |  |  |  |  |  |  |  |  |\n",
      " 8|  |  |  |  |  |  |  |  |  |  |\n",
      " 9|  |  |  |  |  |  |  |  |  |  |\n",
      "10|  |  |  |  |  |  |  |  |  |  |\n",
      "New round!\n",
      "  | 1| 2| 3| 4| 5| 6| 7| 8| 9|10|\n",
      " 1| X|  |  |  |  |  |  |  |  |  |\n",
      " 2|  |  |  |  |  |  |  |  |  |  |\n",
      " 3|  |  |  |  |  |  |  |  |  |  |\n",
      " 4|  |  |  |  |  |  |  | O|  |  |\n",
      " 5|  |  |  |  |  |  |  |  |  |  |\n",
      " 6|  |  |  |  |  |  |  |  |  |  |\n",
      " 7|  |  |  |  |  |  |  |  |  |  |\n",
      " 8|  |  |  |  |  |  |  |  |  |  |\n",
      " 9|  |  |  |  |  |  |  |  |  |  |\n",
      "10|  |  |  |  |  |  |  |  |  |  |\n",
      "Enter the line number of the playing field from 1 to 10: 2\n",
      "Enter the number of the playing field column from 1 to 10: 2\n",
      "New round!\n",
      "  | 1| 2| 3| 4| 5| 6| 7| 8| 9|10|\n",
      " 1| X|  |  |  |  |  |  |  |  |  |\n",
      " 2|  | X|  |  |  |  |  |  |  |  |\n",
      " 3|  |  |  |  |  |  |  |  |  |  |\n",
      " 4|  |  |  |  |  |  |  | O|  |  |\n",
      " 5|  |  |  |  |  |  |  |  |  |  |\n",
      " 6|  |  |  |  |  |  |  |  |  |  |\n",
      " 7|  |  |  |  |  |  |  |  |  |  |\n",
      " 8|  |  |  |  |  |  |  |  |  |  |\n",
      " 9|  |  |  |  |  |  |  |  |  |  |\n",
      "10|  |  |  |  |  |  |  |  |  |  |\n",
      "New round!\n",
      "  | 1| 2| 3| 4| 5| 6| 7| 8| 9|10|\n",
      " 1| X|  |  |  | O|  |  |  |  |  |\n",
      " 2|  | X|  |  |  |  |  |  |  |  |\n",
      " 3|  |  |  |  |  |  |  |  |  |  |\n",
      " 4|  |  |  |  |  |  |  | O|  |  |\n",
      " 5|  |  |  |  |  |  |  |  |  |  |\n",
      " 6|  |  |  |  |  |  |  |  |  |  |\n",
      " 7|  |  |  |  |  |  |  |  |  |  |\n",
      " 8|  |  |  |  |  |  |  |  |  |  |\n",
      " 9|  |  |  |  |  |  |  |  |  |  |\n",
      "10|  |  |  |  |  |  |  |  |  |  |\n",
      "Enter the line number of the playing field from 1 to 10: 3\n",
      "Enter the number of the playing field column from 1 to 10: 3\n",
      "New round!\n",
      "  | 1| 2| 3| 4| 5| 6| 7| 8| 9|10|\n",
      " 1| X|  |  |  | O|  |  |  |  |  |\n",
      " 2|  | X|  |  |  |  |  |  |  |  |\n",
      " 3|  |  | X|  |  |  |  |  |  |  |\n",
      " 4|  |  |  |  |  |  |  | O|  |  |\n",
      " 5|  |  |  |  |  |  |  |  |  |  |\n",
      " 6|  |  |  |  |  |  |  |  |  |  |\n",
      " 7|  |  |  |  |  |  |  |  |  |  |\n",
      " 8|  |  |  |  |  |  |  |  |  |  |\n",
      " 9|  |  |  |  |  |  |  |  |  |  |\n",
      "10|  |  |  |  |  |  |  |  |  |  |\n",
      "New round!\n",
      "  | 1| 2| 3| 4| 5| 6| 7| 8| 9|10|\n",
      " 1| X|  |  |  | O|  |  |  |  |  |\n",
      " 2|  | X|  |  |  |  |  |  |  |  |\n",
      " 3| O|  | X|  |  |  |  |  |  |  |\n",
      " 4|  |  |  |  |  |  |  | O|  |  |\n",
      " 5|  |  |  |  |  |  |  |  |  |  |\n",
      " 6|  |  |  |  |  |  |  |  |  |  |\n",
      " 7|  |  |  |  |  |  |  |  |  |  |\n",
      " 8|  |  |  |  |  |  |  |  |  |  |\n",
      " 9|  |  |  |  |  |  |  |  |  |  |\n",
      "10|  |  |  |  |  |  |  |  |  |  |\n",
      "Enter the line number of the playing field from 1 to 10: 4\n",
      "Enter the number of the playing field column from 1 to 10: 4\n",
      "New round!\n",
      "  | 1| 2| 3| 4| 5| 6| 7| 8| 9|10|\n",
      " 1| X|  |  |  | O|  |  |  |  |  |\n",
      " 2|  | X|  |  |  |  |  |  |  |  |\n",
      " 3| O|  | X|  |  |  |  |  |  |  |\n",
      " 4|  |  |  | X|  |  |  | O|  |  |\n",
      " 5|  |  |  |  |  |  |  |  |  |  |\n",
      " 6|  |  |  |  |  |  |  |  |  |  |\n",
      " 7|  |  |  |  |  |  |  |  |  |  |\n",
      " 8|  |  |  |  |  |  |  |  |  |  |\n",
      " 9|  |  |  |  |  |  |  |  |  |  |\n",
      "10|  |  |  |  |  |  |  |  |  |  |\n",
      "New round!\n",
      "  | 1| 2| 3| 4| 5| 6| 7| 8| 9|10|\n",
      " 1| X|  |  |  | O|  |  |  |  |  |\n",
      " 2|  | X|  |  |  |  |  |  |  |  |\n",
      " 3| O|  | X|  |  |  |  |  |  |  |\n",
      " 4|  |  |  | X|  |  |  | O|  |  |\n",
      " 5|  |  |  |  |  |  |  |  |  |  |\n",
      " 6|  |  |  |  |  |  |  |  |  |  |\n",
      " 7|  |  |  |  | O|  |  |  |  |  |\n",
      " 8|  |  |  |  |  |  |  |  |  |  |\n",
      " 9|  |  |  |  |  |  |  |  |  |  |\n",
      "10|  |  |  |  |  |  |  |  |  |  |\n",
      "Enter the line number of the playing field from 1 to 10: 5\n",
      "Enter the number of the playing field column from 1 to 10: 5\n",
      "New round!\n",
      "  | 1| 2| 3| 4| 5| 6| 7| 8| 9|10|\n",
      " 1| X|  |  |  | O|  |  |  |  |  |\n",
      " 2|  | X|  |  |  |  |  |  |  |  |\n",
      " 3| O|  | X|  |  |  |  |  |  |  |\n",
      " 4|  |  |  | X|  |  |  | O|  |  |\n",
      " 5|  |  |  |  | X|  |  |  |  |  |\n",
      " 6|  |  |  |  |  |  |  |  |  |  |\n",
      " 7|  |  |  |  | O|  |  |  |  |  |\n",
      " 8|  |  |  |  |  |  |  |  |  |  |\n",
      " 9|  |  |  |  |  |  |  |  |  |  |\n",
      "10|  |  |  |  |  |  |  |  |  |  |\n",
      "Game over\n",
      "You lose, try again!\n"
     ]
    }
   ],
   "source": [
    "if __name__ == '__main__':\n",
    "    main()\n",
    "    "
   ]
  }
 ],
 "metadata": {
  "colab": {
   "authorship_tag": "ABX9TyMlzn62OmhmkYBAvzHELywk",
   "collapsed_sections": [],
   "name": "tic_tac_toe_vice_versa.ipynb",
   "provenance": []
  },
  "kernelspec": {
   "display_name": "Python 3",
   "language": "python",
   "name": "python3"
  },
  "language_info": {
   "codemirror_mode": {
    "name": "ipython",
    "version": 3
   },
   "file_extension": ".py",
   "mimetype": "text/x-python",
   "name": "python",
   "nbconvert_exporter": "python",
   "pygments_lexer": "ipython3",
   "version": "3.8.8"
  },
  "nbTranslate": {
   "displayLangs": [
    "*"
   ],
   "hotkey": "alt-t",
   "langInMainMenu": true,
   "sourceLang": "en",
   "targetLang": "fr",
   "useGoogleTranslate": true
  },
  "toc": {
   "base_numbering": 1,
   "nav_menu": {},
   "number_sections": true,
   "sideBar": true,
   "skip_h1_title": false,
   "title_cell": "Table of Contents",
   "title_sidebar": "Contents",
   "toc_cell": false,
   "toc_position": {},
   "toc_section_display": true,
   "toc_window_display": false
  },
  "varInspector": {
   "cols": {
    "lenName": 16,
    "lenType": 16,
    "lenVar": 40
   },
   "kernels_config": {
    "python": {
     "delete_cmd_postfix": "",
     "delete_cmd_prefix": "del ",
     "library": "var_list.py",
     "varRefreshCmd": "print(var_dic_list())"
    },
    "r": {
     "delete_cmd_postfix": ") ",
     "delete_cmd_prefix": "rm(",
     "library": "var_list.r",
     "varRefreshCmd": "cat(var_dic_list()) "
    }
   },
   "types_to_exclude": [
    "module",
    "function",
    "builtin_function_or_method",
    "instance",
    "_Feature"
   ],
   "window_display": false
  }
 },
 "nbformat": 4,
 "nbformat_minor": 1
}
