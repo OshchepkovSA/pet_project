{
 "cells": [
  {
   "cell_type": "markdown",
   "id": "938c7f72",
   "metadata": {},
   "source": [
    " ## Попытка реализации алгоритма Литтла \"Метод ветвей и границ\" для решения задачи коммивояжера"
   ]
  },
  {
   "cell_type": "markdown",
   "id": "d0c3eda9",
   "metadata": {},
   "source": [
    "### Использованная литература:\n",
    "1. https://uchimatchast.ru/teoriya/algoritm-littla-primer-1/\n",
    "2. http://galyautdinov.ru/post/zadacha-kommivoyazhera\n",
    "3. http://www.math.nsc.ru/LBRT/k4/or/or_part4.pdf\n",
    "4. https://math.semestr.ru/kom/index.php\n"
   ]
  },
  {
   "cell_type": "code",
   "execution_count": 253,
   "id": "f4592140",
   "metadata": {
    "ExecuteTime": {
     "end_time": "2022-01-30T17:02:10.142856Z",
     "start_time": "2022-01-30T17:02:10.139097Z"
    }
   },
   "outputs": [],
   "source": [
    "import numpy as np"
   ]
  },
  {
   "cell_type": "code",
   "execution_count": 254,
   "id": "51fd51f0",
   "metadata": {
    "ExecuteTime": {
     "end_time": "2022-01-30T17:02:10.261020Z",
     "start_time": "2022-01-30T17:02:10.178124Z"
    },
    "code_folding": []
   },
   "outputs": [],
   "source": [
    "def distance_matrix(dict_coord, inf=inf): # В нашем случае симметричная матрица\n",
    "    \"\"\"\n",
    "    Функция делает из координатной сетки dict_coord матрицу расстояний matrix (тип numpy.ndarray),\n",
    "    добавляя числовые индексы слева и сверху по строкам и столбцам соответственно.\n",
    "    \n",
    "    dict_coord: словарь с координатами узлов\n",
    "    inf: обозначает поля движения города в самого себя, а также поле пересечения индексов matrix[0][0]\n",
    "    return: matrix - матрица расстояний\n",
    "    \"\"\"\n",
    "    matrix = []\n",
    "    for i in dict_coord.values():\n",
    "        for j in dict_coord.values():\n",
    "            if i!=j:\n",
    "                matrix.append(((i[0] - j[0]) ** 2 + (i[1] - j[1]) ** 2) ** 0.5)\n",
    "            else:\n",
    "                matrix.append(inf)\n",
    "    matrix =np.array(matrix).reshape(len(dict_coord), len(dict_coord))\n",
    "    indx_from_city = np.array(list((dict_coord.keys()))).reshape(len(dict_coord), 1)\n",
    "    matrix = np.append(indx_from_city, matrix, axis=1)\n",
    "    indx_in_city = np.concatenate((np.array([inf]), np.array(list((dict_coord.keys())))), axis=0)\n",
    "    matrix = np.append([indx_in_city], matrix, axis=0)\n",
    "    return matrix\n"
   ]
  },
  {
   "cell_type": "code",
   "execution_count": 255,
   "id": "612eef62",
   "metadata": {
    "ExecuteTime": {
     "end_time": "2022-01-30T17:02:10.427625Z",
     "start_time": "2022-01-30T17:02:10.265572Z"
    }
   },
   "outputs": [],
   "source": [
    "def reduce_matrix(reduce_m, H):\n",
    "    \"\"\"\n",
    "    Функция делает редукцию матрицы reduce_m и вычисляет нижнюю границу H\n",
    "    \n",
    "    reduce_m: матрица которую редуцируем\n",
    "    H: нижняя граница до редуцирования\n",
    "    return: reduce_m - рецуцированная матрица\n",
    "            H - нижняя граница после редуцирования\n",
    "    \"\"\"\n",
    "    min_d_i = reduce_m[1:, 1:].min(axis=1) #минимумы по строкам\n",
    "    for cnt, el in enumerate(reduce_m.T): #вычитание минимумов по строкам\n",
    "        if not cnt:\n",
    "            continue\n",
    "        el[1:]-= min_d_i\n",
    "\n",
    "    min_d_j = reduce_m[1:, 1:].min(axis=0) #минимумы по столбцам\n",
    "    for cnt, el in enumerate(reduce_m): #вычитание минимумов по столбцам\n",
    "        if not cnt:\n",
    "            continue\n",
    "        el[1:]-= min_d_j\n",
    "    H+=sum(min_d_i)+sum(min_d_j)\n",
    "    return reduce_m, H\n"
   ]
  },
  {
   "cell_type": "code",
   "execution_count": 256,
   "id": "06cf63d0",
   "metadata": {
    "ExecuteTime": {
     "end_time": "2022-01-30T17:02:10.584101Z",
     "start_time": "2022-01-30T17:02:10.431825Z"
    }
   },
   "outputs": [],
   "source": [
    "def list_coord_zeros(reduce_m): #TODO переделать индексацию, надо брать по 0 строке и столбцу\n",
    "    \"\"\"\n",
    "    Функция поиска нолей и их индексов в reduce_m\n",
    "    \n",
    "    reduce_m: редуцированная матрица\n",
    "    return: list_coord_zeros - список кортежей с координатами нолей\n",
    "    \"\"\"       \n",
    "    list_coord_zeros = []\n",
    "    for cnt_i, i in enumerate(reduce_m): # from city\n",
    "        for cnt_j, j in enumerate(i): # in city\n",
    "            if j==0:\n",
    "                list_coord_zeros.append((reduce_m[cnt_i][0], reduce_m[0][cnt_j])) # мог спутать i j\n",
    "    return list_coord_zeros"
   ]
  },
  {
   "cell_type": "code",
   "execution_count": 257,
   "id": "77ffaf01",
   "metadata": {
    "ExecuteTime": {
     "end_time": "2022-01-30T17:02:10.702814Z",
     "start_time": "2022-01-30T17:02:10.587321Z"
    }
   },
   "outputs": [],
   "source": [
    "def convert_indx(reduce_m, coord):\n",
    "    \"\"\"\n",
    "    Вспомогательная функция конвертирует \"мнимый\" индекс матрицы в \"настоящий\"\n",
    "    \n",
    "    reduce_m: матрица для конвертации индексов\n",
    "    coord: координаты с первоначальной матрицы\n",
    "    return: row, col - координаты матрицы в номерации Python\n",
    "    \"\"\"\n",
    "    col = list(reduce_m[0]).index(coord[1])\n",
    "    row = list(reduce_m[:,0]).index(coord[0])\n",
    "    return row, col"
   ]
  },
  {
   "cell_type": "code",
   "execution_count": 258,
   "id": "031ef1c7",
   "metadata": {
    "ExecuteTime": {
     "end_time": "2022-01-30T17:02:10.876922Z",
     "start_time": "2022-01-30T17:02:10.705810Z"
    }
   },
   "outputs": [],
   "source": [
    "def search_branch(list_coord_zeros, reduce_m, list_branch=[]):\n",
    "    \"\"\"\n",
    "    Функция поиска веток для отслеживания\n",
    "    \n",
    "    list_coord_zeros:список кортежей с координатами нолей в редуцированной матрице\n",
    "    reduce_m: редуцированная матрица\n",
    "    list_branch: пустой список, переменная на вырост если добавлять функционал ходить сразу по разным веткам\n",
    "    return: list_branch - список координат (согласно первоначальной матрице) нулевых клеток с максимальной оценкой\n",
    "    \"\"\"\n",
    "    sum_zero_cells = dict()\n",
    "    for cnt, el in enumerate(list_coord_zeros): # Вычисление оценок нулевых клеток\n",
    "        row, col = convert_indx(reduce_m, el)\n",
    "        reduce_m[row][col] = inf # заменить ноль на inf\n",
    "        sum_zero_cells[el] = reduce_m[row][1:].min()+reduce_m[:, col][1:].min() # Словарь нулевых клеток с максимальной оценкой   \n",
    "        reduce_m[row][col] = 0\n",
    "    for k, v in sum_zero_cells.items():\n",
    "        if v==max(sum_zero_cells.values()):\n",
    "            list_branch.append(k)\n",
    "    return list_branch"
   ]
  },
  {
   "cell_type": "code",
   "execution_count": 259,
   "id": "87ee4c70",
   "metadata": {
    "ExecuteTime": {
     "end_time": "2022-01-30T17:02:10.992168Z",
     "start_time": "2022-01-30T17:02:10.883589Z"
    }
   },
   "outputs": [],
   "source": [
    "def matrix_truncation(matrix, branch):\n",
    "    \"\"\"\n",
    "    Функция отрезания строк и столбцов матрицы\n",
    "    \n",
    "    matrix: матрица которая усекается\n",
    "    branch: координаты по которым усекается\n",
    "    return: matrix - усеченная матрица\n",
    "    \"\"\"\n",
    "    # TODO удалять не по брэнч индексу, а по нулевым, требует теста\n",
    "    matrix = np.delete(matrix, list(matrix[0]).index(branch[1]), axis=1) # delete row\n",
    "    matrix = np.delete(matrix, list(matrix[:,0]).index(branch[0]), axis=0) # delete col\n",
    "    return matrix"
   ]
  },
  {
   "cell_type": "code",
   "execution_count": 260,
   "id": "2fe2142f",
   "metadata": {
    "ExecuteTime": {
     "end_time": "2022-01-30T17:02:11.201309Z",
     "start_time": "2022-01-30T17:02:10.995873Z"
    }
   },
   "outputs": [],
   "source": [
    "def refresh_inf(matrix, inf=inf):\n",
    "    \"\"\"\n",
    "    Функция обновляет в матрице inf\n",
    "    \n",
    "    matrix: матрица в которой обнавляют инф\n",
    "    inf: \"бесконечность\" в матрице\n",
    "    return: matrix - обновленная матрица\n",
    "    \"\"\"\n",
    "    for i in range(len(matrix)):\n",
    "        for j in range(len(matrix)):\n",
    "            if matrix[i][j] > inf/2:\n",
    "                matrix[i][j] = inf\n",
    "    return matrix"
   ]
  },
  {
   "cell_type": "code",
   "execution_count": 261,
   "id": "b5b44509",
   "metadata": {
    "ExecuteTime": {
     "end_time": "2022-01-30T17:02:11.327415Z",
     "start_time": "2022-01-30T17:02:11.206341Z"
    }
   },
   "outputs": [],
   "source": [
    "def remove_looping(matrix):\n",
    "    \"\"\"\n",
    "    Функция ищет строку и столбец не содержащие inf и ставит на их пересечение inf\n",
    "    \n",
    "    matrix: матрица в которой убираются возможные циклы\n",
    "    return: matrix - обновленная матрица\n",
    "    \"\"\"\n",
    "    matrix = refresh_inf(matrix)\n",
    "    row = list(matrix.max(axis=1)) # максимумы по строкам\n",
    "    row = row.index(min(row))\n",
    "    \n",
    "    col = list(matrix.max(axis=0)) # максимумы по столбцам\n",
    "    col = col.index(min(col))\n",
    "    \n",
    "    matrix[row][col] = inf\n",
    "    \n",
    "    return matrix\n",
    "            "
   ]
  },
  {
   "cell_type": "code",
   "execution_count": 262,
   "id": "bf2dd8a2",
   "metadata": {
    "ExecuteTime": {
     "end_time": "2022-01-30T17:02:11.460999Z",
     "start_time": "2022-01-30T17:02:11.331827Z"
    }
   },
   "outputs": [],
   "source": [
    "def sorted_ready_path(ready_path, start):\n",
    "    \"\"\"\n",
    "    Функция сортировки маршрута\n",
    "    \n",
    "    ready_path: список кортежей всех переходов коммивояжера\n",
    "    start: пункт из которого стартуем\n",
    "    return sorted_ready_p - отсортированный (правильный) список переходов коммивояжера\n",
    "    \"\"\"\n",
    "    sorted_ready_p = []\n",
    "    for x, y in ready_path:\n",
    "        if x==start: # Стартовая точка\n",
    "            sorted_ready_p.append((x,y))\n",
    "            ready_path.remove((x,y))\n",
    "            break\n",
    "    while True:\n",
    "        for x, y in ready_path:\n",
    "            if sorted_ready_p[-1][1]==x:\n",
    "                sorted_ready_p.append((x,y))\n",
    "                ready_path.remove((x,y))\n",
    "                break\n",
    "        if len(ready_path)==0:\n",
    "            break\n",
    "    return sorted_ready_p"
   ]
  },
  {
   "cell_type": "code",
   "execution_count": 263,
   "id": "4b24ee5f",
   "metadata": {
    "ExecuteTime": {
     "end_time": "2022-01-30T17:02:11.650125Z",
     "start_time": "2022-01-30T17:02:11.466040Z"
    }
   },
   "outputs": [],
   "source": [
    "def drow_path(sorted_ready_path, data):\n",
    "    \"\"\"\n",
    "    Функция отрисовки вывода\n",
    "    \n",
    "    sorted_ready_path: отсортированный (правильный) список переходов коммивояжера\n",
    "    data: словарь с координатами\n",
    "    return: s - строка вывода\n",
    "    \"\"\"\n",
    "    matrix_len = distance_matrix(dict_coord=data)\n",
    "    s = str(data[sorted_ready_path[0][0]])+' -> '\n",
    "    lenght = 0\n",
    "    for x, y in sorted_ready_path:\n",
    "        lenght += matrix_len[int(x), int(y)]\n",
    "        s += str(data[y]) + str([lenght]) + ' -> '\n",
    "    s = s[:-4] + ' = ' + str([lenght])\n",
    "    return s"
   ]
  },
  {
   "cell_type": "code",
   "execution_count": 271,
   "id": "1f0d865a",
   "metadata": {
    "ExecuteTime": {
     "end_time": "2022-01-30T17:03:37.544561Z",
     "start_time": "2022-01-30T17:03:37.530224Z"
    }
   },
   "outputs": [],
   "source": [
    "data = {'Почтовое отделение':(0, 2),\n",
    "        'Ул. Грибоедова, 104/25':(2, 5),\n",
    "        'Ул. Бейкер стрит, 221б':(5, 2),\n",
    "        'Ул. Большая Садовая, 302-бис':(6, 6),\n",
    "        'Вечнозелёная Аллея, 742':(8, 3),\n",
    "       }\n",
    "\n",
    "# TODO сделать связь текстового и численного ключа\n",
    "\n",
    "data = {1:(0, 2),\n",
    "        2:(2, 5),\n",
    "        3:(5, 2),\n",
    "        4:(6, 6),\n",
    "        5:(8, 3),\n",
    "       }\n",
    "inf = 10**5 # Обозначение бесконечности\n",
    "# TODO изменить работу с inf, при больших значениях в матрице расстояний будет криво работать\n",
    "\n",
    "H = 0 # Нижняя граница старт\n",
    "start = 1 # Ключ стартовой точки\n"
   ]
  },
  {
   "cell_type": "code",
   "execution_count": 272,
   "id": "7bf3ae41",
   "metadata": {
    "ExecuteTime": {
     "end_time": "2022-01-30T17:03:38.344219Z",
     "start_time": "2022-01-30T17:03:38.315046Z"
    }
   },
   "outputs": [
    {
     "name": "stdout",
     "output_type": "stream",
     "text": [
      "(0, 2) -> (2, 5)[3.605551275463989] -> (6, 6)[7.728656901081649] -> (8, 3)[11.334208176545639] -> (5, 2)[14.496485836714019] -> (0, 2)[19.49648583671402] = [19.49648583671402]\n"
     ]
    }
   ],
   "source": [
    "matrix = distance_matrix(dict_coord=data, inf=inf)\n",
    "ready_path = []\n",
    "while True:\n",
    "    reduce_m = reduce_matrix(reduce_m=matrix, H=H) #-> reduce_m, H\n",
    "    H = reduce_m[1]\n",
    "    list_coord_z = list_coord_zeros(reduce_m[0]) # список кортежей с координатами нулей\n",
    "    list_branch = search_branch(list_coord_zeros=list_coord_z,\n",
    "                                reduce_m=reduce_m[0],\n",
    "                                list_branch=[]\n",
    "                               ) #список с координатами \"максимальных нулей\"\n",
    "    ready_path.append(list_branch[0])\n",
    "    # TODO надо list_branch для ветвления запользовать, пока ходит по одной ветке\n",
    "    matrix = matrix_truncation(matrix=matrix, branch=list_branch[0]) # срезание матрицы по индексам\n",
    "    matrix = remove_looping(matrix=matrix) # убирание возможного зацикливания\n",
    "    if matrix.shape[0]==3:\n",
    "        break\n",
    "        \n",
    "append_tmp = (matrix[1][0], matrix[0][2])\n",
    "ready_path.append(append_tmp)\n",
    "append_tmp = (matrix[2][0], matrix[0][1])\n",
    "ready_path.append(append_tmp)\n",
    "sorted_ready_p = sorted_ready_path(ready_path, start=start)\n",
    "print(drow_path(sorted_ready_path=sorted_ready_p, data=data))"
   ]
  },
  {
   "cell_type": "code",
   "execution_count": null,
   "id": "6dfcd4a9",
   "metadata": {},
   "outputs": [],
   "source": []
  },
  {
   "cell_type": "code",
   "execution_count": null,
   "id": "519923c7",
   "metadata": {},
   "outputs": [],
   "source": []
  }
 ],
 "metadata": {
  "kernelspec": {
   "display_name": "Python 3",
   "language": "python",
   "name": "python3"
  },
  "language_info": {
   "codemirror_mode": {
    "name": "ipython",
    "version": 3
   },
   "file_extension": ".py",
   "mimetype": "text/x-python",
   "name": "python",
   "nbconvert_exporter": "python",
   "pygments_lexer": "ipython3",
   "version": "3.8.8"
  },
  "nbTranslate": {
   "displayLangs": [
    "*"
   ],
   "hotkey": "alt-t",
   "langInMainMenu": true,
   "sourceLang": "en",
   "targetLang": "fr",
   "useGoogleTranslate": true
  },
  "toc": {
   "base_numbering": 1,
   "nav_menu": {},
   "number_sections": true,
   "sideBar": true,
   "skip_h1_title": false,
   "title_cell": "Table of Contents",
   "title_sidebar": "Contents",
   "toc_cell": false,
   "toc_position": {},
   "toc_section_display": true,
   "toc_window_display": false
  },
  "varInspector": {
   "cols": {
    "lenName": 16,
    "lenType": 16,
    "lenVar": 40
   },
   "kernels_config": {
    "python": {
     "delete_cmd_postfix": "",
     "delete_cmd_prefix": "del ",
     "library": "var_list.py",
     "varRefreshCmd": "print(var_dic_list())"
    },
    "r": {
     "delete_cmd_postfix": ") ",
     "delete_cmd_prefix": "rm(",
     "library": "var_list.r",
     "varRefreshCmd": "cat(var_dic_list()) "
    }
   },
   "oldHeight": 405.844,
   "position": {
    "height": "427.844px",
    "left": "1006px",
    "right": "20px",
    "top": "120px",
    "width": "340px"
   },
   "types_to_exclude": [
    "module",
    "function",
    "builtin_function_or_method",
    "instance",
    "_Feature"
   ],
   "varInspector_section_display": "block",
   "window_display": false
  }
 },
 "nbformat": 4,
 "nbformat_minor": 5
}
